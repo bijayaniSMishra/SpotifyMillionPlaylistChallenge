{
  "nbformat": 4,
  "nbformat_minor": 0,
  "metadata": {
    "colab": {
      "name": "getTrackFeatures.ipynb",
      "provenance": [],
      "collapsed_sections": []
    },
    "kernelspec": {
      "display_name": "Python 3",
      "name": "python3"
    },
    "language_info": {
      "name": "python"
    }
  },
  "cells": [
    {
      "cell_type": "code",
      "metadata": {
        "id": "ee2uvox5Izf8"
      },
      "source": [
        "#Code to fetch Audio features from Spotify API"
      ],
      "execution_count": null,
      "outputs": []
    },
    {
      "cell_type": "code",
      "metadata": {
        "colab": {
          "base_uri": "https://localhost:8080/"
        },
        "id": "sS3vHteRSGPl",
        "outputId": "4cd8357c-48df-4ae6-d0d8-c13a7e6551e4"
      },
      "source": [
        "#Install the spotipy module.\n",
        "!pip install spotipy"
      ],
      "execution_count": 2,
      "outputs": [
        {
          "output_type": "stream",
          "text": [
            "Collecting spotipy\n",
            "  Downloading https://files.pythonhosted.org/packages/02/9b/25b96cd2f1e2174ac787099b386e2afd427bf78dfb11e1c5857affc3409d/spotipy-2.18.0-py3-none-any.whl\n",
            "Collecting requests>=2.25.0\n",
            "\u001b[?25l  Downloading https://files.pythonhosted.org/packages/29/c1/24814557f1d22c56d50280771a17307e6bf87b70727d975fd6b2ce6b014a/requests-2.25.1-py2.py3-none-any.whl (61kB)\n",
            "\r\u001b[K     |█████▍                          | 10kB 15.9MB/s eta 0:00:01\r\u001b[K     |██████████▊                     | 20kB 20.5MB/s eta 0:00:01\r\u001b[K     |████████████████                | 30kB 25.4MB/s eta 0:00:01\r\u001b[K     |█████████████████████▍          | 40kB 27.0MB/s eta 0:00:01\r\u001b[K     |██████████████████████████▊     | 51kB 14.4MB/s eta 0:00:01\r\u001b[K     |████████████████████████████████| 61kB 4.7MB/s \n",
            "\u001b[?25hRequirement already satisfied: six>=1.15.0 in /usr/local/lib/python3.7/dist-packages (from spotipy) (1.15.0)\n",
            "Collecting urllib3>=1.26.0\n",
            "\u001b[?25l  Downloading https://files.pythonhosted.org/packages/09/c6/d3e3abe5b4f4f16cf0dfc9240ab7ce10c2baa0e268989a4e3ec19e90c84e/urllib3-1.26.4-py2.py3-none-any.whl (153kB)\n",
            "\u001b[K     |████████████████████████████████| 153kB 14.1MB/s \n",
            "\u001b[?25hRequirement already satisfied: certifi>=2017.4.17 in /usr/local/lib/python3.7/dist-packages (from requests>=2.25.0->spotipy) (2020.12.5)\n",
            "Requirement already satisfied: idna<3,>=2.5 in /usr/local/lib/python3.7/dist-packages (from requests>=2.25.0->spotipy) (2.10)\n",
            "Requirement already satisfied: chardet<5,>=3.0.2 in /usr/local/lib/python3.7/dist-packages (from requests>=2.25.0->spotipy) (3.0.4)\n",
            "\u001b[31mERROR: google-colab 1.0.0 has requirement requests~=2.23.0, but you'll have requests 2.25.1 which is incompatible.\u001b[0m\n",
            "\u001b[31mERROR: datascience 0.10.6 has requirement folium==0.2.1, but you'll have folium 0.8.3 which is incompatible.\u001b[0m\n",
            "Installing collected packages: urllib3, requests, spotipy\n",
            "  Found existing installation: urllib3 1.24.3\n",
            "    Uninstalling urllib3-1.24.3:\n",
            "      Successfully uninstalled urllib3-1.24.3\n",
            "  Found existing installation: requests 2.23.0\n",
            "    Uninstalling requests-2.23.0:\n",
            "      Successfully uninstalled requests-2.23.0\n",
            "Successfully installed requests-2.25.1 spotipy-2.18.0 urllib3-1.26.4\n"
          ],
          "name": "stdout"
        }
      ]
    },
    {
      "cell_type": "code",
      "metadata": {
        "id": "tElQj7FbP85f"
      },
      "source": [
        "#Importing required modules\n",
        "import spotipy\n",
        "import os\n",
        "import pandas as pd\n",
        "import numpy as np\n",
        "from spotipy.oauth2 import SpotifyClientCredentials\n",
        "from pandas import DataFrame, json_normalize\n",
        "import json\n"
      ],
      "execution_count": 3,
      "outputs": []
    },
    {
      "cell_type": "code",
      "metadata": {
        "id": "zdGGt-99L6iw"
      },
      "source": [
        "track_uri_toquery = pd.read_csv(\"/content/drive/MyDrive/Colab_Notebooks/CMPE256/Project/data/my_data/combined_csv.csv\")"
      ],
      "execution_count": null,
      "outputs": []
    },
    {
      "cell_type": "code",
      "metadata": {
        "id": "mW_69UwB1XxI"
      },
      "source": [
        "#Reading Mpd data for getting the track_uri list which audio files needs to be generated.\n",
        "def read_mpd_data(path):\n",
        "\n",
        "    #Creating empty Dataframe with required Columns\n",
        "    tracks_df = pd.DataFrame(columns=['pid','track_uri'])\n",
        "\n",
        "    # Fetching the data from the mpd data folder\n",
        "    folderpath= path\n",
        "    json_files = [pos_json for pos_json in os.listdir(folderpath) if pos_json.endswith('.json')]\n",
        "    json_files.sort()\n",
        "\n",
        "    # Fetching pid and track_uri for all the playlists\n",
        "    for index, js in enumerate(json_files):\n",
        "        with open(os.path.join(folderpath, js)) as json_file:\n",
        "            j = json.load(json_file)\n",
        "\n",
        "            # extracting tracks from playlists in each slice\n",
        "            tracks = json_normalize(j['playlists'], record_path='tracks',\n",
        "                                meta=['pid'])\n",
        "            # append tracks to tracks_df\n",
        "            tracks = tracks[['pid', 'track_uri']]\n",
        "            tracks_df = tracks_df.append(tracks)\n",
        "\n",
        "    #Fecthing the only track_uri from the dataframe.\n",
        "    onlyURI = tracks_df['track_uri']\n",
        "    \n",
        "    #Wriiting the Track_uri data frame to csv.\n",
        "    onlyURI.to_csv('/content/drive/MyDrive/Colab_Notebooks/CMPE256/Project/data/2606/trackURI.csv', index= False)"
      ],
      "execution_count": 4,
      "outputs": []
    },
    {
      "cell_type": "code",
      "metadata": {
        "id": "Z6NN2a1l1q4b"
      },
      "source": [
        "# Getting the mpd Data\n",
        "read_mpd_data('/content/drive/MyDrive/Somedata')"
      ],
      "execution_count": null,
      "outputs": []
    },
    {
      "cell_type": "code",
      "metadata": {
        "id": "w0WQxyfFLjQg",
        "colab": {
          "base_uri": "https://localhost:8080/"
        },
        "outputId": "d31616de-6d0c-4327-e62a-4ea8866892a4"
      },
      "source": [
        "# Initialize Spotify API\n",
        "client_credentials_manager = SpotifyClientCredentials(client_id='6c3a43eeaea14010ac2b71a258c2103b',\n",
        "                                                      client_secret='937fd98bf98242b28a3113d4c46289a4')\n",
        "sp = spotipy.Spotify(client_credentials_manager=client_credentials_manager, requests_timeout=40)\n",
        "\n",
        "# Reading the Track_uri List\n",
        "track_uri_list = pd.read_csv(\"/content/drive/MyDrive/Colab_Notebooks/CMPE256/Project/data/2604SomeData/trackURI.csv\")\n",
        "\n",
        "# # Connsidering only the track_uri data\n",
        "list_to_query = list(track_uri_list['track_uri'])\n",
        "\n",
        "#Fetching the unique track URI columns\n",
        "unique_tracks = list(set(list_to_query))\n",
        "print('No. of unique Tracks : ',   len(unique_tracks ))\n",
        "\n",
        "#Fetching the spotify audio features, in chunks of 100 uri at a time.\n",
        "start = 0\n",
        "end = len(unique_tracks)\n",
        "for i in range(start, end, 100):\n",
        "    temp_list = unique_tracks[i:i+100]\n",
        "    playlists = sp.audio_features(temp_list)\n",
        "    # Adding audio feature to one list.\n",
        "    if \"itemlist\" in locals():\n",
        "        itemlist = itemlist + playlists \n",
        "    else:\n",
        "        itemlist = playlists"
      ],
      "execution_count": 18,
      "outputs": [
        {
          "output_type": "stream",
          "text": [
            "No. of unique Tracks :  407591\n"
          ],
          "name": "stdout"
        }
      ]
    },
    {
      "cell_type": "code",
      "metadata": {
        "id": "yUAKUn2PGrnw"
      },
      "source": [
        "# Remove the any none values if present\n",
        "list_new = []\n",
        "for i in itemlist:\n",
        "  if i != None:\n",
        "   list_new.append(i)\n",
        "   "
      ],
      "execution_count": 22,
      "outputs": []
    },
    {
      "cell_type": "code",
      "metadata": {
        "id": "NqNdFLP-H7tV"
      },
      "source": [
        "#Writtinng the audio features in csv file if the list length is greater than 1.\n",
        "if len(list_new1) > 0: \n",
        "    df = DataFrame (list_new1,columns=['danceability', 'energy', 'key', 'loudness', 'mode', 'speechiness','acousticness','instrumentalness','liveness','valence','tempo','type','id','uri','track_href','analysis_url','duration_ms','time_signature'])\n",
        "    temp_filename = \"audio_features_40K.csv\" \n",
        "    path =\"/content/drive/MyDrive/Colab_Notebooks/CMPE256/Project/data/my_data/MetaData/track_feature_new\" +temp_filename;\n",
        "    df.to_csv(path, index= False)"
      ],
      "execution_count": 24,
      "outputs": []
    },
    {
      "cell_type": "code",
      "metadata": {
        "id": "XLDNXQsOIfIQ"
      },
      "source": [
        "#Fetching the track features.\n",
        "trackFeatures = pd.read_csv('/content/drive/MyDrive/Colab_Notebooks/CMPE256/Project/data/my_data/MetaData/track_feature_newaudio_features_40K.csv')"
      ],
      "execution_count": 29,
      "outputs": []
    },
    {
      "cell_type": "code",
      "metadata": {
        "id": "T0njWqjsRMP2"
      },
      "source": [
        "#Fetching the pid and track list from the User based algorithm implementation.\n",
        "pidTrackInfo = pd.read_csv('/content/drive/MyDrive/Colab_Notebooks/CMPE256/Project/data/2604/pidTrack.csv')"
      ],
      "execution_count": 26,
      "outputs": []
    },
    {
      "cell_type": "code",
      "metadata": {
        "id": "s9GplHb6RXwm"
      },
      "source": [
        "#Mergig the pid and track details into single df\n",
        "merged_df = pd.merge( pidTrackInfo,trackFeatures, left_on='track_uri', right_on='uri' , how ='inner')"
      ],
      "execution_count": 30,
      "outputs": []
    },
    {
      "cell_type": "code",
      "metadata": {
        "id": "jMfu1l9bRXzq"
      },
      "source": [
        "#Writting the merged file into the csv.\n",
        "merged_df.to_csv('/content/drive/MyDrive/Colab_Notebooks/CMPE256/Project/data/2604/Pid_track_merge.csv')"
      ],
      "execution_count": null,
      "outputs": []
    }
  ]
}