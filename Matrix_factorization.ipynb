{
  "nbformat": 4,
  "nbformat_minor": 0,
  "metadata": {
    "accelerator": "GPU",
    "colab": {
      "name": "Copy of ALS with Title similarity.ipynb",
      "provenance": [],
      "collapsed_sections": [],
      "toc_visible": true,
      "machine_shape": "hm"
    },
    "kernelspec": {
      "display_name": "Python 3",
      "language": "python",
      "name": "python3"
    },
    "language_info": {
      "codemirror_mode": {
        "name": "ipython",
        "version": 3
      },
      "file_extension": ".py",
      "mimetype": "text/x-python",
      "name": "python",
      "nbconvert_exporter": "python",
      "pygments_lexer": "ipython3",
      "version": "3.8.3"
    },
    "widgets": {
      "application/vnd.jupyter.widget-state+json": {
        "4ce505e16f9d4319841da3a9ec86206f": {
          "model_module": "@jupyter-widgets/controls",
          "model_name": "HBoxModel",
          "state": {
            "_view_name": "HBoxView",
            "_dom_classes": [],
            "_model_name": "HBoxModel",
            "_view_module": "@jupyter-widgets/controls",
            "_model_module_version": "1.5.0",
            "_view_count": null,
            "_view_module_version": "1.5.0",
            "box_style": "",
            "layout": "IPY_MODEL_4e842f01d42b460c820441ce937dbccf",
            "_model_module": "@jupyter-widgets/controls",
            "children": [
              "IPY_MODEL_4f93d22f5c034fb5af1182c96b50a522",
              "IPY_MODEL_3b64f5f86a70464b94c36b30b8c36163"
            ]
          }
        },
        "4e842f01d42b460c820441ce937dbccf": {
          "model_module": "@jupyter-widgets/base",
          "model_name": "LayoutModel",
          "state": {
            "_view_name": "LayoutView",
            "grid_template_rows": null,
            "right": null,
            "justify_content": null,
            "_view_module": "@jupyter-widgets/base",
            "overflow": null,
            "_model_module_version": "1.2.0",
            "_view_count": null,
            "flex_flow": null,
            "width": null,
            "min_width": null,
            "border": null,
            "align_items": null,
            "bottom": null,
            "_model_module": "@jupyter-widgets/base",
            "top": null,
            "grid_column": null,
            "overflow_y": null,
            "overflow_x": null,
            "grid_auto_flow": null,
            "grid_area": null,
            "grid_template_columns": null,
            "flex": null,
            "_model_name": "LayoutModel",
            "justify_items": null,
            "grid_row": null,
            "max_height": null,
            "align_content": null,
            "visibility": null,
            "align_self": null,
            "height": null,
            "min_height": null,
            "padding": null,
            "grid_auto_rows": null,
            "grid_gap": null,
            "max_width": null,
            "order": null,
            "_view_module_version": "1.2.0",
            "grid_template_areas": null,
            "object_position": null,
            "object_fit": null,
            "grid_auto_columns": null,
            "margin": null,
            "display": null,
            "left": null
          }
        },
        "4f93d22f5c034fb5af1182c96b50a522": {
          "model_module": "@jupyter-widgets/controls",
          "model_name": "FloatProgressModel",
          "state": {
            "_view_name": "ProgressView",
            "style": "IPY_MODEL_9e9cdd9cc8d645d3acd13a4b85e80955",
            "_dom_classes": [],
            "description": "100%",
            "_model_name": "FloatProgressModel",
            "bar_style": "success",
            "max": 40,
            "_view_module": "@jupyter-widgets/controls",
            "_model_module_version": "1.5.0",
            "value": 40,
            "_view_count": null,
            "_view_module_version": "1.5.0",
            "orientation": "horizontal",
            "min": 0,
            "description_tooltip": null,
            "_model_module": "@jupyter-widgets/controls",
            "layout": "IPY_MODEL_33b439ad756b412cae6b383572e18f2b"
          }
        },
        "3b64f5f86a70464b94c36b30b8c36163": {
          "model_module": "@jupyter-widgets/controls",
          "model_name": "HTMLModel",
          "state": {
            "_view_name": "HTMLView",
            "style": "IPY_MODEL_d6652cda708143918ecb98d8eebf7e1e",
            "_dom_classes": [],
            "description": "",
            "_model_name": "HTMLModel",
            "placeholder": "​",
            "_view_module": "@jupyter-widgets/controls",
            "_model_module_version": "1.5.0",
            "value": " 40/40 [00:01&lt;00:00, 30.74it/s, loss=0.000351]",
            "_view_count": null,
            "_view_module_version": "1.5.0",
            "description_tooltip": null,
            "_model_module": "@jupyter-widgets/controls",
            "layout": "IPY_MODEL_c2926c8a44814ae2978be07612bb9b36"
          }
        },
        "9e9cdd9cc8d645d3acd13a4b85e80955": {
          "model_module": "@jupyter-widgets/controls",
          "model_name": "ProgressStyleModel",
          "state": {
            "_view_name": "StyleView",
            "_model_name": "ProgressStyleModel",
            "description_width": "initial",
            "_view_module": "@jupyter-widgets/base",
            "_model_module_version": "1.5.0",
            "_view_count": null,
            "_view_module_version": "1.2.0",
            "bar_color": null,
            "_model_module": "@jupyter-widgets/controls"
          }
        },
        "33b439ad756b412cae6b383572e18f2b": {
          "model_module": "@jupyter-widgets/base",
          "model_name": "LayoutModel",
          "state": {
            "_view_name": "LayoutView",
            "grid_template_rows": null,
            "right": null,
            "justify_content": null,
            "_view_module": "@jupyter-widgets/base",
            "overflow": null,
            "_model_module_version": "1.2.0",
            "_view_count": null,
            "flex_flow": null,
            "width": null,
            "min_width": null,
            "border": null,
            "align_items": null,
            "bottom": null,
            "_model_module": "@jupyter-widgets/base",
            "top": null,
            "grid_column": null,
            "overflow_y": null,
            "overflow_x": null,
            "grid_auto_flow": null,
            "grid_area": null,
            "grid_template_columns": null,
            "flex": null,
            "_model_name": "LayoutModel",
            "justify_items": null,
            "grid_row": null,
            "max_height": null,
            "align_content": null,
            "visibility": null,
            "align_self": null,
            "height": null,
            "min_height": null,
            "padding": null,
            "grid_auto_rows": null,
            "grid_gap": null,
            "max_width": null,
            "order": null,
            "_view_module_version": "1.2.0",
            "grid_template_areas": null,
            "object_position": null,
            "object_fit": null,
            "grid_auto_columns": null,
            "margin": null,
            "display": null,
            "left": null
          }
        },
        "d6652cda708143918ecb98d8eebf7e1e": {
          "model_module": "@jupyter-widgets/controls",
          "model_name": "DescriptionStyleModel",
          "state": {
            "_view_name": "StyleView",
            "_model_name": "DescriptionStyleModel",
            "description_width": "",
            "_view_module": "@jupyter-widgets/base",
            "_model_module_version": "1.5.0",
            "_view_count": null,
            "_view_module_version": "1.2.0",
            "_model_module": "@jupyter-widgets/controls"
          }
        },
        "c2926c8a44814ae2978be07612bb9b36": {
          "model_module": "@jupyter-widgets/base",
          "model_name": "LayoutModel",
          "state": {
            "_view_name": "LayoutView",
            "grid_template_rows": null,
            "right": null,
            "justify_content": null,
            "_view_module": "@jupyter-widgets/base",
            "overflow": null,
            "_model_module_version": "1.2.0",
            "_view_count": null,
            "flex_flow": null,
            "width": null,
            "min_width": null,
            "border": null,
            "align_items": null,
            "bottom": null,
            "_model_module": "@jupyter-widgets/base",
            "top": null,
            "grid_column": null,
            "overflow_y": null,
            "overflow_x": null,
            "grid_auto_flow": null,
            "grid_area": null,
            "grid_template_columns": null,
            "flex": null,
            "_model_name": "LayoutModel",
            "justify_items": null,
            "grid_row": null,
            "max_height": null,
            "align_content": null,
            "visibility": null,
            "align_self": null,
            "height": null,
            "min_height": null,
            "padding": null,
            "grid_auto_rows": null,
            "grid_gap": null,
            "max_width": null,
            "order": null,
            "_view_module_version": "1.2.0",
            "grid_template_areas": null,
            "object_position": null,
            "object_fit": null,
            "grid_auto_columns": null,
            "margin": null,
            "display": null,
            "left": null
          }
        }
      }
    }
  },
  "cells": [
    {
      "cell_type": "code",
      "metadata": {
        "id": "U4hfQKUENetW"
      },
      "source": [
        "from __future__ import print_function"
      ],
      "execution_count": null,
      "outputs": []
    },
    {
      "cell_type": "code",
      "metadata": {
        "id": "ZN8Tr5mtaAwj"
      },
      "source": [
        "!unzip '/content/drive/MyDrive/Colab_Notebooks/spotify_million_playlist_dataset.zip' -d  mydata"
      ],
      "execution_count": null,
      "outputs": []
    },
    {
      "cell_type": "code",
      "metadata": {
        "colab": {
          "base_uri": "https://localhost:8080/"
        },
        "id": "qkmhaNixTgb-",
        "outputId": "3ea31f65-d4f1-4867-8bf6-7cde52a7d04d"
      },
      "source": [
        "from google.colab import drive\n",
        "drive.mount('/content/drive')"
      ],
      "execution_count": null,
      "outputs": [
        {
          "output_type": "stream",
          "text": [
            "Drive already mounted at /content/drive; to attempt to forcibly remount, call drive.mount(\"/content/drive\", force_remount=True).\n"
          ],
          "name": "stdout"
        }
      ]
    },
    {
      "cell_type": "code",
      "metadata": {
        "colab": {
          "base_uri": "https://localhost:8080/"
        },
        "id": "oFpDs0XnNetd",
        "outputId": "31f9f7a0-83a8-4e9d-b66f-8a296d2555df"
      },
      "source": [
        "import codecs\n",
        "import numpy\n",
        "import pandas as pd\n",
        "from pandas import json_normalize\n",
        "import os\n",
        "import json\n",
        "import time\n",
        "import numpy\n",
        "import pandas as pd\n",
        "import sys\n",
        "from scipy.sparse import coo_matrix\n",
        "\n",
        "!pip install implicit\n",
        "!pip install annoy\n",
        "\n",
        "from implicit.als import AlternatingLeastSquares\n",
        "from implicit.approximate_als import AnnoyAlternatingLeastSquares\n",
        "from implicit.bpr import BayesianPersonalizedRanking\n",
        "\n",
        "#Output file to add the recommendatio for the test dataset.\n",
        "outputfile = '//content/drive/MyDrive/Somedata/my_results_merge.csv'"
      ],
      "execution_count": null,
      "outputs": [
        {
          "output_type": "stream",
          "text": [
            "Requirement already satisfied: implicit in /usr/local/lib/python3.7/dist-packages (0.4.4)\n",
            "Requirement already satisfied: scipy>=0.16 in /usr/local/lib/python3.7/dist-packages (from implicit) (1.4.1)\n",
            "Requirement already satisfied: numpy in /usr/local/lib/python3.7/dist-packages (from implicit) (1.19.5)\n",
            "Requirement already satisfied: tqdm>=4.27 in /usr/local/lib/python3.7/dist-packages (from implicit) (4.41.1)\n",
            "Requirement already satisfied: annoy in /usr/local/lib/python3.7/dist-packages (1.17.0)\n"
          ],
          "name": "stdout"
        }
      ]
    },
    {
      "cell_type": "code",
      "metadata": {
        "id": "orX3c9gjNetd"
      },
      "source": [
        "def get_mpd_data(path):\n",
        "\n",
        "    # creating empty df for the pid and track uri\n",
        "    tracks_df = pd.DataFrame(columns=['pid','track_uri'])\n",
        "\n",
        "    #path_json = path\n",
        "    #Fetch all the mpd slice data from the folder.\n",
        "    all_files = [slice_json for slice_json in os.listdir(path) if slice_json.endswith('.json')]\n",
        "    all_files.sort()\n",
        "\n",
        "    # Get all the tracks uri and playlistID\n",
        "    for index, js in enumerate(all_files):\n",
        "      with open(os.path.join(path, js)) as all_files:\n",
        "          json_file = json.load(all_files)\n",
        "\n",
        "          # Fetch tracks list for the all  pids.\n",
        "          tracks = pd.json_normalize(json_file['playlists'], record_path='tracks', meta=['pid'])\n",
        "\n",
        "          # Add only pid and track_uri into the DF\n",
        "          tracks = tracks[['pid', 'track_uri']]\n",
        "          tracks_df = tracks_df.append(tracks)\n",
        "\n",
        "    #Writting Tracks list into the CSV files.\n",
        "    tracks_df.to_csv('/content/drive/MyDrive/Somedata/mpd.csv', index=False)"
      ],
      "execution_count": null,
      "outputs": []
    },
    {
      "cell_type": "code",
      "metadata": {
        "id": "8B1IrPSlNete"
      },
      "source": [
        "get_mpd_data('/content/drive/MyDrive/Somedata')"
      ],
      "execution_count": null,
      "outputs": []
    },
    {
      "cell_type": "code",
      "metadata": {
        "id": "Nm4SX3O-Netf"
      },
      "source": [
        "#Read the Challenge Dataset for recommending the task.\n",
        "def read_challenge_dataset(path):\n",
        "\n",
        "    #Read the challenge dataset\n",
        "    challenge_df = pd.read_json(path +'/challenge_set.json')\n",
        "\n",
        "    #Normalize the json data\n",
        "    #fetch the track data along pif and num_sample colums.\n",
        "    ch_tracks = json_normalize(challenge_df['playlists'], record_path='tracks',\n",
        "                            meta=['pid','num_samples'], errors='ignore')\n",
        "\n",
        "    #Considering only the pid and track_uri\n",
        "    ch_tracks = ch_tracks[['pid','track_uri']]\n",
        "    ch_df_ids = ch_tracks.copy()\n",
        "\n",
        "    #Calling function to generate seed data for the challenge dataset playlist with no columns.\n",
        "    final_challenge_df = generating_seed_data(challenge_df, ch_df_ids, ch_tracks)\n",
        "\n",
        "    #Reorder the column names.\n",
        "    final_challenge_df = final_challenge_df.reindex(columns=['pid', 'track_uri', 'track_count'])\n",
        "    \n",
        "    # Set track count =1 to indicate the presence of song in the playlist.\n",
        "    final_challenge_df['track_count']=1\n",
        "\n",
        "    return final_challenge_df"
      ],
      "execution_count": null,
      "outputs": []
    },
    {
      "cell_type": "code",
      "metadata": {
        "id": "oLho-u4D1sD2"
      },
      "source": [
        "#Get the title similary csv with recommended track.\n",
        "cold_start_recommendation = pd.read_csv('/content/drive/MyDrive/Colab_Notebooks/CMPE256/Project/data/Title_Similarty_Data/title_popularity_recs.csv')"
      ],
      "execution_count": null,
      "outputs": []
    },
    {
      "cell_type": "code",
      "metadata": {
        "colab": {
          "base_uri": "https://localhost:8080/"
        },
        "id": "zAfNc7cMVEGb",
        "outputId": "ad807390-998a-4702-dd0b-dbb8f695f5a4"
      },
      "source": [
        "cold_start_recommendation.shape"
      ],
      "execution_count": null,
      "outputs": [
        {
          "output_type": "execute_result",
          "data": {
            "text/plain": [
              "(747, 501)"
            ]
          },
          "metadata": {
            "tags": []
          },
          "execution_count": 17
        }
      ]
    },
    {
      "cell_type": "code",
      "metadata": {
        "id": "wAowkgWCBdyx"
      },
      "source": [
        "# Using this method to normalize the title and compare with the title similarity  df.\n",
        "import re\n",
        "def normalize_name(name):\n",
        "    name = name.lower()\n",
        "    name = re.sub(r\"[.,\\/#!$%\\^\\*;:{}=\\_`~()@]\", ' ', name)\n",
        "    name = re.sub(r'\\s+', ' ', name).strip()\n",
        "    return name"
      ],
      "execution_count": null,
      "outputs": []
    },
    {
      "cell_type": "code",
      "metadata": {
        "id": "BPqYNOV2vbDS"
      },
      "source": [
        "# Getting tracks for challenge playlist with only titles.\n",
        "# if recommendation is not found using the generating random seed tracks for the such playlists.\n",
        "\n",
        "#first line of the submission file.\n",
        "first_line = 'team_info,Team5,main,Bijayanismishta@gmail.com'\n",
        "\n",
        "def generating_seed_data(ch_df, challenge_df, tracks_ch):\n",
        "\n",
        "    # Openning the output file to write the recommendation from the title similarity matrix.\n",
        "    with codecs.open(outputfile, \"w\") as o:\n",
        "      o.write(\"%s \\n\" %(first_line))\n",
        "      o.write(\"\\n\")\n",
        "      for i, r in ch_df.iterrows():\n",
        "        #Checking for playlist with no seed tracks.\n",
        "          if (ch_df['playlists'][i]['num_samples']==0):\n",
        "              name = ch_df['playlists'][i]['name']\n",
        "              pid = ch_df['playlists'][i]['pid']\n",
        "              name = normalize_name(name)\n",
        "\n",
        "              # Extracting the recommendation based on playlist name.\n",
        "              row = cold_start_recommendation[cold_start_recommendation['Names'] == name]\n",
        "              row = row.dropna(axis=1, how='all')\n",
        "\n",
        "              # Checking if the recommendation list has 500 songs ad writting the recommended songs in the output files.\n",
        "              if row.shape[1] == 501:\n",
        "                df_list = row.values.tolist()\n",
        "                df_list = df_list.pop()[1:]\n",
        "                o.write(\"%s\" %(pid) + ',')\n",
        "                recs = ','.join(map(str, df_list))\n",
        "                o.write(recs)\n",
        "                o.write(\"\\n\")\n",
        "                o.write(\"\\n\")\n",
        "                recs = ['']\n",
        "              else:\n",
        "                #For playlist no matching title or less than 500 song recommendation, adding random songs as seed tracks.\n",
        "                try:\n",
        "                 # through random sampling getting n songs, adding pid and appending to final challenge_df\n",
        "                  n = 10\n",
        "                  sample_instance = tracks_ch.track_uri.sample(n)\n",
        "                  samples_df = pd.DataFrame(sample_instance)\n",
        "                  samples_df['pid']=ch_df['playlists'][i]['pid']\n",
        "                  challenge_df = challenge_df.append(samples_df, sort=False)\n",
        "                except Error as e:\n",
        "                  print(\"Error occured :\", e)\n",
        "    return challenge_df"
      ],
      "execution_count": null,
      "outputs": []
    },
    {
      "cell_type": "code",
      "metadata": {
        "id": "Bys-GWovNetg"
      },
      "source": [
        "#Method to remove the less frequest songs.\n",
        "def removing_less_frequent_songs():\n",
        "\n",
        "\n",
        "    #Getting mpd slice data.\n",
        "    data_df = pd.read_csv('/content/drive/MyDrive/Somedata/mpd.csv')\n",
        "\n",
        "    #Adding new Column as track_count and setting it to one to indicate song exits in the paylist.\n",
        "    data_df['track_count']=1\n",
        "\n",
        "    # Creating a copy of the mpd data to get count of the data.\n",
        "    count_df = data_df.copy()\n",
        "    print(data_df)\n",
        "\n",
        "    # get the count all repeated songs in the data.\n",
        "    count_df = count_df.groupby(['track_uri'])['track_count'].sum().reset_index()\n",
        "    print(count_df)\n",
        "    \n",
        "    # removing less frequent songs that repeats less than 200 times in the mpd.\n",
        "    data_cleaned = count_df[count_df['track_count']> 200]\n",
        "\n",
        "    # By inner join getting only the dats of songs that occurs more 200 times in the dataset.\n",
        "    data_merged = pd.merge(data_df, data_cleaned, how='inner', on=['track_uri'])\n",
        "    \n",
        "    # renaming column\n",
        "    data_merged.rename(columns={\"track_count_x\": \"track_count\"},inplace=True)\n",
        "    data_merged = data_merged[['pid','track_uri','track_count']]\n",
        "\n",
        "    print(\"data merge : \", data_merged.head())\n",
        "    return data_merged\n"
      ],
      "execution_count": null,
      "outputs": []
    },
    {
      "cell_type": "code",
      "metadata": {
        "id": "O-V61LcMNeti"
      },
      "source": [
        "# Model included as part of the recommendation system\n",
        "MODELS = {\"als_model\":  AlternatingLeastSquares,\n",
        "          \"annoy_als_model\": AnnoyAlternatingLeastSquares,\n",
        "          \"bpr_model\": BayesianPersonalizedRanking\n",
        "          }"
      ],
      "execution_count": null,
      "outputs": []
    },
    {
      "cell_type": "code",
      "metadata": {
        "id": "Z6uBcEpUNeti"
      },
      "source": [
        "def fetch_model_details(model_name):\n",
        "    model = MODELS.get(model_name)\n",
        "\n",
        "    #If model_name is invalid throw error.\n",
        "    if not model:\n",
        "        raise ValueError(\"Invalid model name '%s'\" % model)\n",
        "\n",
        "    # Set hyperParameters for the models\n",
        "    if issubclass(model, AlternatingLeastSquares):\n",
        "        params = {'factors': 200, 'iterations': 40, 'dtype': numpy.float32, 'use_gpu': True, 'calculate_training_loss':True, 'use_cg':True, 'use_native':True}\n",
        "    elif model_name == \"bpr\":\n",
        "        params = {'factors': 20, 'use_gpu': False}\n",
        "    else:\n",
        "        params = {}\n",
        "\n",
        "    return model(**params)"
      ],
      "execution_count": null,
      "outputs": []
    },
    {
      "cell_type": "code",
      "metadata": {
        "id": "2ylalUjBNeti"
      },
      "source": [
        "#Read the merged dataset and return the sparse matrix and tuple for pid, track_uri and track count.\n",
        "def read_data(filename):\n",
        "   \n",
        "    # Read the final_data i.e merge datset of training and challenge data set.\n",
        "    data = pd.read_csv(filename, dtype={\"pid\": 'category', \"track_uri\": 'category', \"track_count\": int})\n",
        "      \n",
        "    # map each playlist and track uri  to a unique numeric value\n",
        "    data['track_uri'] = data['track_uri'].astype('category')\n",
        "    data['pid'] = data['pid'].astype('category')\n",
        "    data['track_count'] = data['track_count'].astype(int)\n",
        "\n",
        "    # create a coordinate matrix for pid, track_uri and track count.\n",
        "    matrix = coo_matrix((data['track_count'].astype(numpy.float32),\n",
        "                       (data['track_uri'].cat.codes.copy(),\n",
        "                        data['pid'].cat.codes.copy())))\n",
        "\n",
        "    return data, matrix"
      ],
      "execution_count": null,
      "outputs": []
    },
    {
      "cell_type": "code",
      "metadata": {
        "id": "1rnm3X3HNeti"
      },
      "source": [
        "#Renerate recommendatio track for each pid.\n",
        "def generate_recommendations(input_filename, output_filename, model_name):\n",
        "\n",
        "    #Read the merge data and fetch the sparse matrix and pid, track_uri and track count data.\n",
        "    df, track_count = read_data(input_filename)\n",
        "\n",
        "    #Create the base model to train.\n",
        "    model = fetch_model_details(model_name)\n",
        "\n",
        "    # setting the approximate similar_item false for the ALS model.\n",
        "    if issubclass(model.__class__, AlternatingLeastSquares):\n",
        "        model.approximate_similar_items = False\n",
        "\n",
        "    # Get the csr matrix.\n",
        "    track_count = track_count.tocsr()\n",
        "\n",
        "    #Train the model on the csr matrix \n",
        "    model.fit(track_count)\n",
        "\n",
        "    # get the recommendations tracks from the trained model.\n",
        "    recs = ['']\n",
        "    \n",
        "    tracks = dict(enumerate(df['track_uri'].cat.categories))\n",
        "    pid_track_counts = track_count.T.tocsr()\n",
        "\n",
        "    #Write the recommended tracks into the CSV files.\n",
        "    with codecs.open(output_filename, \"a\") as o:\n",
        "        for playlist_id, pid in enumerate(df['pid'].cat.categories):\n",
        "          # Writting csv files for all the playlist that has pid > 1000000, i.e. the challenge dataset.\n",
        "          if int(pid)>=1000000:\n",
        "            for track_id, score in model.recommend(playlist_id, pid_track_counts, N=500):\n",
        "                    recs.append(tracks[track_id])\n",
        "            o.write(\"%s\" %(pid))\n",
        "            recs = ','.join(map(str, recs))\n",
        "            o.write(recs)\n",
        "            o.write(\"\\n\")\n",
        "            o.write(\"\\n\")\n",
        "\n",
        "            recs = ['']\n",
        "    print(\"Done!!\")"
      ],
      "execution_count": null,
      "outputs": []
    },
    {
      "cell_type": "code",
      "metadata": {
        "colab": {
          "base_uri": "https://localhost:8080/",
          "height": 861,
          "referenced_widgets": [
            "4ce505e16f9d4319841da3a9ec86206f",
            "4e842f01d42b460c820441ce937dbccf",
            "4f93d22f5c034fb5af1182c96b50a522",
            "3b64f5f86a70464b94c36b30b8c36163",
            "9e9cdd9cc8d645d3acd13a4b85e80955",
            "33b439ad756b412cae6b383572e18f2b",
            "d6652cda708143918ecb98d8eebf7e1e",
            "c2926c8a44814ae2978be07612bb9b36"
          ]
        },
        "id": "uPx8JliDNetj",
        "outputId": "9165f761-7db5-4cf6-b4c0-677b8482534e"
      },
      "source": [
        "#Select one the model als_model, bpr_model or annoy_model\n",
        "model = 'als_model'\n",
        "\n",
        "\n",
        "# Reading  the challenge data set.\n",
        "challenge_df = read_challenge_dataset('/content/drive/MyDrive/Colab_Notebooks/CMPE256/Project/challenge_set')\n",
        "\n",
        "#Remove the less frequent songs from the track list\n",
        "mpd = removing_less_frequent_songs()\n",
        "\n",
        "#Merging mpd data with challenge_sets to train the models.\n",
        "final_data = mpd.append(challenge_df)\n",
        "\n",
        "print(\"final data \", final_data)\n",
        "\n",
        "#Writting the files into the csv files.\n",
        "final_data.to_csv('/content/drive/MyDrive/Somedata/mpd_ch.csv', index=False)\n",
        "\n",
        "\n",
        "#Mathod to calculate the recommendation list with als model\n",
        "generate_recommendations('/content/drive/MyDrive/Somedata/mpd_ch.csv','/content/drive/MyDrive/Somedata/my_results_merge.csv', model)\n"
      ],
      "execution_count": null,
      "outputs": [
        {
          "output_type": "stream",
          "text": [
            "          pid                             track_uri  track_count\n",
            "0           0  spotify:track:0UaMYEvWZi0ZqiDOoHU3YI            1\n",
            "1           0  spotify:track:6I9VzXrHxO9rA9A5euc8Ak            1\n",
            "2           0  spotify:track:0WqIKmW4BTrj3eJFmnCKMv            1\n",
            "3           0  spotify:track:1AWQoqb9bSvzTjaLralEkT            1\n",
            "4           0  spotify:track:1lzr43nnXAijIGYnCT8M8H            1\n",
            "...       ...                                   ...          ...\n",
            "265707  11999  spotify:track:2ovm5VZJ36s3HKF8nkcIZI            1\n",
            "265708  11999  spotify:track:2IqCOKEx7mzSp4BTxkdFIV            1\n",
            "265709  11999  spotify:track:4Dw02sVUfUA67l3fZ9FoKs            1\n",
            "265710  11999  spotify:track:4qhkS0lRL2GgDxpuIr2Mbb            1\n",
            "265711  11999  spotify:track:2FQ5y4bYmq2h974oUBxoZH            1\n",
            "\n",
            "[265712 rows x 3 columns]\n",
            "                                  track_uri  track_count\n",
            "0      spotify:track:000JBgYWfJQqdFaRqu2n3f            1\n",
            "1      spotify:track:000mA0etY38nKdvf1N04af            1\n",
            "2      spotify:track:000xQL6tZNLJzIrtIgxqSl           22\n",
            "3      spotify:track:002PgfoyfrOGiKch4EW8Wm            2\n",
            "4      spotify:track:002ecFL144rSBQcu6vrpka            1\n",
            "...                                     ...          ...\n",
            "92049  spotify:track:7zxRMhXxJMQCeDDg0rKAVo           21\n",
            "92050  spotify:track:7zy2ezQByCeFcaDtsxt77o            1\n",
            "92051  spotify:track:7zz1drChhd4hQBiGSnLRBZ            1\n",
            "92052  spotify:track:7zzAWJ8aD50WH1EjGC2j45            1\n",
            "92053  spotify:track:7zzBEZBTJejWeL6EqWmCD9            2\n",
            "\n",
            "[92054 rows x 2 columns]\n",
            "data merge :     pid                             track_uri  track_count\n",
            "0    0  spotify:track:0UaMYEvWZi0ZqiDOoHU3YI            1\n",
            "1  123  spotify:track:0UaMYEvWZi0ZqiDOoHU3YI            1\n",
            "2  218  spotify:track:0UaMYEvWZi0ZqiDOoHU3YI            1\n",
            "3  342  spotify:track:0UaMYEvWZi0ZqiDOoHU3YI            1\n",
            "4  382  spotify:track:0UaMYEvWZi0ZqiDOoHU3YI            1\n",
            "final data              pid                             track_uri  track_count\n",
            "0             0  spotify:track:0UaMYEvWZi0ZqiDOoHU3YI            1\n",
            "1           123  spotify:track:0UaMYEvWZi0ZqiDOoHU3YI            1\n",
            "2           218  spotify:track:0UaMYEvWZi0ZqiDOoHU3YI            1\n",
            "3           342  spotify:track:0UaMYEvWZi0ZqiDOoHU3YI            1\n",
            "4           382  spotify:track:0UaMYEvWZi0ZqiDOoHU3YI            1\n",
            "...         ...                                   ...          ...\n",
            "11458   1002590  spotify:track:2KQGs6oyLQwfqSZ5Zs0eje            1\n",
            "202854  1002590  spotify:track:199QqY8qt4xrakwA6IDuLf            1\n",
            "238722  1002590  spotify:track:4afMG2PlvFfX976bZJvHmb            1\n",
            "6322    1002590  spotify:track:2zXKqJFHefEgjlg3rYW7Rx            1\n",
            "161797  1002590  spotify:track:1PYZtMbLD4vrpGYEVij0eS            1\n",
            "\n",
            "[394540 rows x 3 columns]\n"
          ],
          "name": "stdout"
        },
        {
          "output_type": "stream",
          "text": [
            "WARNING:implicit:GPU training requires factor size to be a multiple of 32. Increasing factors from 200 to 224.\n"
          ],
          "name": "stderr"
        },
        {
          "output_type": "display_data",
          "data": {
            "application/vnd.jupyter.widget-view+json": {
              "model_id": "4ce505e16f9d4319841da3a9ec86206f",
              "version_minor": 0,
              "version_major": 2
            },
            "text/plain": [
              "HBox(children=(FloatProgress(value=0.0, max=40.0), HTML(value='')))"
            ]
          },
          "metadata": {
            "tags": []
          }
        },
        {
          "output_type": "stream",
          "text": [
            "\n"
          ],
          "name": "stdout"
        }
      ]
    },
    {
      "cell_type": "code",
      "metadata": {
        "id": "jgWTXK3X3kBa"
      },
      "source": [
        ""
      ],
      "execution_count": null,
      "outputs": []
    }
  ]
}